{
 "cells": [
  {
   "cell_type": "markdown",
   "id": "divine-invasion",
   "metadata": {},
   "source": [
    "# statistique bayésienne - Metropolis-Hastings"
   ]
  },
  {
   "cell_type": "markdown",
   "id": "large-assignment",
   "metadata": {},
   "source": [
    "Q1)       \n",
    "$\\theta \\sim \\mathbb{U}_{ \\{ \\mathbb{O} \\} }$ avec $\\mathbb{O} = [0,1]$       \n",
    "les lois conditionnelles des $x_i$ sont :       \n",
    "$$\n",
    "\\begin{align*}\n",
    "    f(x_i | \\theta) &= \\theta \\phi(x_i) + (1- \\theta) \\psi(x_i) \\\\\n",
    "    \\text{Donc } f(x|\\theta) &= \\Pi_{i=1}^{N} f(x_i | \\theta) \n",
    "\\end{align*}\n",
    "$$\n",
    "avec $\\phi$ une densité de loi normale $\\mathbb{N}(-1,1)$ et $\\psi$ densité de loi normale $\\mathbb{N}(1,1)$     \n",
    "Donc : \n",
    "$$\n",
    "\\begin{align*}\n",
    "    \\text{la loi a posteriori : } &\\pi(\\theta,x) = \\frac{f(x|\\theta) \\pi(\\theta) }{ \\int_{\\mathbb{O}} f(x|\\theta) \\mathrm{d}\\theta } \\\\\n",
    "    \\text{la perte quadratique : }  &\\mathbb{E} \\left[ \\left( \\hat{\\theta}_{N} - \\theta \\right)^2 \\right] \n",
    "\\end{align*}\n",
    "$$"
   ]
  },
  {
   "cell_type": "markdown",
   "id": "essential-dominant",
   "metadata": {},
   "source": [
    "Q2) "
   ]
  },
  {
   "cell_type": "code",
   "execution_count": 35,
   "id": "psychological-brazil",
   "metadata": {},
   "outputs": [],
   "source": [
    "import numpy as np\n",
    "import matplotlib.pyplot as plt "
   ]
  },
  {
   "cell_type": "code",
   "execution_count": 2,
   "id": "alike-florence",
   "metadata": {},
   "outputs": [],
   "source": [
    "## paramètres\n",
    "theta_etoile = 3/4\n",
    "N = 100\n",
    "n = 500"
   ]
  },
  {
   "cell_type": "markdown",
   "id": "saved-merchandise",
   "metadata": {},
   "source": [
    "Calcul de $X_1, ... , X_N $"
   ]
  },
  {
   "cell_type": "code",
   "execution_count": 3,
   "id": "according-prophet",
   "metadata": {},
   "outputs": [],
   "source": [
    "x_cond = lambda theta,N : theta*np.random.normal(1,1, size = N) + (1-theta)*np.random.normal(-1,1, size = N)"
   ]
  },
  {
   "cell_type": "markdown",
   "id": "humanitarian-output",
   "metadata": {},
   "source": [
    "Q3)"
   ]
  },
  {
   "cell_type": "code",
   "execution_count": 6,
   "id": "pregnant-cooperation",
   "metadata": {},
   "outputs": [],
   "source": [
    "def estimateur_moy(Theta, N = 100, n = 500):\n",
    "    tirages = np.zeros((n,N))\n",
    "    for i in range(n):\n",
    "        tirages[i] = x_cond(Theta,N)\n",
    "    estimateur = np.mean(tirages, axis = 0)\n",
    "    return 1/2 * (estimateur.mean() + 1)"
   ]
  },
  {
   "cell_type": "code",
   "execution_count": 7,
   "id": "small-microphone",
   "metadata": {},
   "outputs": [
    {
     "name": "stdout",
     "output_type": "stream",
     "text": [
      "On trouve l'estimation suivante : 0.7501\n"
     ]
    }
   ],
   "source": [
    "Z = estimateur_moy(theta_etoile)\n",
    "print(\"On trouve l'estimation suivante : {}\".format(round(Z,4)))"
   ]
  },
  {
   "cell_type": "markdown",
   "id": "thousand-career",
   "metadata": {},
   "source": [
    "Q4)"
   ]
  },
  {
   "cell_type": "markdown",
   "id": "different-ghost",
   "metadata": {},
   "source": [
    "Le rapport de Métropolis est défini de la manière suivante : \n",
    "$$\n",
    "\\begin{equation*}\n",
    "    r = \\frac{\\pi(\\theta^{'})}{\\pi(\\theta^{})}\n",
    "\\end{equation*}\n",
    "$$\n",
    "Ici les lois sont des uniformes sur $[0,1]$ donc on se retrouve avec $ r = 1$"
   ]
  },
  {
   "cell_type": "code",
   "execution_count": 8,
   "id": "compatible-penguin",
   "metadata": {},
   "outputs": [],
   "source": [
    "def Metropolis_Hasting(theta0 = 1/2 , n = int(1e4), N = 100):\n",
    "    val = theta0\n",
    "    for i in range(n):\n",
    "        candidat = np.random.uniform(low=0.0, high=1.0)\n",
    "        \n",
    "        prior_candidate = np.prod(x_cond(candidat,N))\n",
    "        prior_old_val = np.prod(x_cond(val,N))\n",
    "        \n",
    "        alpha = prior_candidate/prior_old_val\n",
    "        \n",
    "        if alpha >= 1:\n",
    "            val = candidat\n",
    "        else:\n",
    "            u = np.random.uniform(low=0.0, high=1.0)\n",
    "            val = candidat*(u <= alpha) + val * (u > alpha)\n",
    "    return val"
   ]
  },
  {
   "cell_type": "code",
   "execution_count": 9,
   "id": "bottom-canada",
   "metadata": {},
   "outputs": [
    {
     "name": "stdout",
     "output_type": "stream",
     "text": [
      "Avec Metropolis Hasting on trouve : 0.9733200286166329\n"
     ]
    }
   ],
   "source": [
    "test = Metropolis_Hasting()\n",
    "print(\"Avec Metropolis Hasting on trouve : {}\".format(test))"
   ]
  }
 ],
 "metadata": {
  "kernelspec": {
   "display_name": "Python 3",
   "language": "python",
   "name": "python3"
  },
  "language_info": {
   "codemirror_mode": {
    "name": "ipython",
    "version": 3
   },
   "file_extension": ".py",
   "mimetype": "text/x-python",
   "name": "python",
   "nbconvert_exporter": "python",
   "pygments_lexer": "ipython3",
   "version": "3.7.10"
  }
 },
 "nbformat": 4,
 "nbformat_minor": 5
}
