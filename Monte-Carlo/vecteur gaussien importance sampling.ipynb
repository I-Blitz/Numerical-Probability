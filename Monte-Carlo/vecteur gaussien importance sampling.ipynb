{
 "cells": [
  {
   "cell_type": "markdown",
   "id": "opponent-stake",
   "metadata": {},
   "source": [
    "# vecteur gaussien et importance sampling"
   ]
  },
  {
   "cell_type": "markdown",
   "id": "heard-museum",
   "metadata": {},
   "source": [
    "Ici on considère un vecteur gaussien $Z = (X,Y)$ centré de matrice de variance covariance $\\Gamma$ tel que :\n",
    "$$\n",
    "\\Gamma = \\begin{pmatrix}\n",
    "4 & -1 \\\\\n",
    "-1 & 4 \\\\\n",
    "\\end{pmatrix}\n",
    "$$\n",
    "On souhaite calculer $ \\mathbb{P} \\left( Z \\in \\mathbb{O} \\right) $ avec $ \\mathbb{O} = \\{ (x,y) \\in \\mathbb{R}^{2}, x \\geq a, y \\geq a \\} $"
   ]
  },
  {
   "cell_type": "markdown",
   "id": "static-ribbon",
   "metadata": {},
   "source": [
    "Q1) Détermination naïve de la probabilité  "
   ]
  },
  {
   "cell_type": "code",
   "execution_count": 1,
   "id": "seventh-stable",
   "metadata": {},
   "outputs": [],
   "source": [
    "import numpy as np\n",
    "import matplotlib.pyplot as plt\n",
    "from mpl_toolkits.mplot3d import Axes3D"
   ]
  },
  {
   "cell_type": "code",
   "execution_count": 11,
   "id": "upper-wonder",
   "metadata": {},
   "outputs": [],
   "source": [
    "val_a = [3, 5, 7]\n",
    "Mc = 200000"
   ]
  },
  {
   "cell_type": "code",
   "execution_count": 12,
   "id": "civilian-snowboard",
   "metadata": {},
   "outputs": [],
   "source": [
    "Gamma = np.array([ [4 , -1], [-1, 4] ])\n",
    "A = np.linalg.cholesky(Gamma)"
   ]
  },
  {
   "cell_type": "code",
   "execution_count": 13,
   "id": "considerable-wallpaper",
   "metadata": {},
   "outputs": [
    {
     "name": "stdout",
     "output_type": "stream",
     "text": [
      "Pour a = 3 et Mc = 200000, on a p = 0.00128\n",
      "Pour a = 5 et Mc = 200000, on a p = 1.5e-05\n",
      "Pour a = 7 et Mc = 200000, on a p = 0.0\n"
     ]
    }
   ],
   "source": [
    "for val in val_a:    \n",
    "        Z = np.random.normal(0,1, size = (Mc,2))\n",
    "        for i in range(Mc):\n",
    "            Z[i] = np.dot(A,Z[i])\n",
    "            \n",
    "        X = np.transpose(Z)[0]\n",
    "        Y = np.transpose(Z)[1]\n",
    "        \n",
    "        p = ((X >= val)*(Y >= val)).mean()\n",
    "        print(\"Pour a = {} et Mc = {}, on a p = {}\".format(val,Mc,p))"
   ]
  },
  {
   "cell_type": "markdown",
   "id": "voluntary-segment",
   "metadata": {},
   "source": [
    "On remarque bien que plus on s'éloigne (representé par la valeur de a) de la zone où est concentrée notre densité de probabilité, plus les chances de faire un \"bon\" tirage sont faibles donc pour un nombre simulation de MC trop faible, on trouve une proba nulle alors qu'analytiquement on sait que la proba est bien strictement positive. "
   ]
  },
  {
   "cell_type": "markdown",
   "id": "incorporated-uruguay",
   "metadata": {},
   "source": [
    "Q2) L'idée que nous allons explorer est la suivante. On va se ramener au calcul d'une autre espérance mais qui va nous \"déplacer\" dans une zone avec une plus grande chance de \"bons\" tirages tout en garantissant que nous calculons toujours la même probabilité. Cette méthode est appelé \"importance sampling\" ou \"échantillonage préférentiel\".      \n",
    "On souhaite déterminer le point $(x_{0} , y_{0}) \\in \\mathbb{O}$ tel qu'il maximise la densité du vecteur gaussien Z.\n",
    "$$\n",
    "X = (x,y) \\\\\n",
    "\\Gamma^{-1} = \\frac{1}{15} \\begin{pmatrix}\n",
    "4 & 1 \\\\\n",
    "1 & 4 \\\\\n",
    "\\end{pmatrix} \\\\\n",
    "\\begin{align*}\n",
    "    F_{Z}(X) &= \\left( \\frac{1}{\\sqrt{2 \\pi}} \\right)^{2} \\frac{1}{\\sqrt{det(\\Gamma)}} exp \\left( - \\frac{ X^{T} \\Gamma^{-1} X }{2} \\right) \\\\\n",
    "    &= \\frac{1}{2 \\pi} \\frac{1}{\\sqrt{15}} exp \\left( -\\frac{1}{2*15} \\left( 4x^2 + 2xy + 4y^2 \\right) \\right) \\\\\n",
    "\\end{align*}\n",
    "$$\n",
    "On cherche le point $(x_0,y_0)$ qui maximise $F_{Z}$, ce qui revient à chercher le point qui minimise $4x^2 + 2xy + 4y^2$.\n",
    "$$\n",
    "\\begin{align*}\n",
    "    4x^2 + 2xy + 4y^2 &= 4(x+y)^{2} - 6xy \\\\\n",
    "    &= 4 (x+y)^{2} - \\frac{3}{2} \\left[ (x+y)^{2} - (x-y)^{2} \\right] \\\\\n",
    "    &= \\frac{5}{2} (x+y)^{2} + \\frac{3}{2} (x-y)^{2}\n",
    "\\end{align*}\n",
    "$$\n",
    "On a une somme de carrés donc tout est positif. Le point de $\\mathbb{O}$ qui minimise cela est $(a,a)$. Donc le point qui maximise $F_{Z}$ est $(x_{0},y_{0})^{T} = (a,a)^{T} = m $"
   ]
  },
  {
   "cell_type": "markdown",
   "id": "patent-separate",
   "metadata": {},
   "source": [
    "On considère le vecteur $W$ tel que $W \\sim \\mathcal{N}( m, \\Gamma )$"
   ]
  },
  {
   "cell_type": "markdown",
   "id": "pressing-elizabeth",
   "metadata": {},
   "source": [
    "$$ \n",
    "\\begin{align*}\n",
    "    p &= \\mathbb{P} \\left( Z \\in \\mathbb{O} \\right) \\\\\n",
    "    &= \\mathbb{P} \\left( (X,Y) \\in \\mathbb{O} \\right) \\\\\n",
    "    &= \\mathbb{E} \\left[ 1_{ \\{ (X,Y) \\in \\mathbb{O} \\} } \\right] \\\\\n",
    "    &= \\int_{\\mathbb{R}^{2}} 1_{ \\{ (x,y) \\in \\mathbb{O} \\} } f_{Z}(x,y) \\mathrm{d}x \\mathrm{d}y \\\\\n",
    "    &= \\int_{\\mathbb{R}^{2}} 1_{ \\{ (x,y) \\in \\mathbb{O} \\} } \\frac{f_{Z}(x,y)}{f_{W}(x,y)} f_{W}(x,y) \\mathrm{d}x \\mathrm{d}y \\\\\n",
    "    &= \\int_{\\mathbb{R}^{2}} 1_{ \\{ (x,y) \\in \\mathbb{O} \\} } g(x,y) f_{W}(x,y) \\mathrm{d}x \\mathrm{d}y \\\\\n",
    "    &=  \\mathbb{E} \\left[ 1_{ \\{ W \\in \\mathbb{O} \\} } g(W) \\right] \\\\\n",
    "\\end{align*}\n",
    "$$"
   ]
  },
  {
   "cell_type": "markdown",
   "id": "earlier-crowd",
   "metadata": {},
   "source": [
    "$$\n",
    "\\begin{align*}\n",
    "    g(X) &= \\frac{F_Z (X)}{F_W (X)} \\\\\n",
    "    &= \\left( \\frac{\\sqrt{2 \\pi}}{\\sqrt{2 \\pi}} \\right)^{2} \\left( \\frac{\\sqrt{det(\\Gamma)}}{\\sqrt{det(\\Gamma)}} \\right) \\frac{ exp \\left( - \\frac{1}{2} \\left( X^{T} \\Gamma^{-1} X \\right) \\right) } {exp \\left( - \\frac{1}{2} \\left( \\left( X^{T} - m \\right) \\Gamma^{-1} \\left( X - m \\right) \\right) \\right) } \\\\\n",
    "    &= \\frac{ exp \\left( - \\frac{1}{2} \\left( X^{T} \\Gamma^{-1} X \\right) \\right) } {exp \\left( - \\frac{1}{2} \\left( \\left( X^{T} - m \\right) \\Gamma^{-1} \\left( X - m \\right) \\right) \\right) } \\\\\n",
    "    &=  exp \\left( - \\frac{1}{2} \\left( X^{T} \\Gamma^{-1} X \\right) + \\frac{1}{2} \\left( \\left( X^{T} - m \\right) \\Gamma^{-1} \\left( X - m \\right) \\right) \\right) \\\\\n",
    "    &= exp \\left( - \\frac{1}{2} \\left(  X^{T} \\Gamma^{-1} X  - X^{T} \\Gamma^{-1} X + X^{T} \\Gamma^{-1} m + m^{T} \\Gamma^{-1} X - m^{T} \\Gamma^{-1} m  \\right) \\right) \\\\\n",
    "    &= exp \\left( - \\frac{1}{2} \\left( + X^{T} \\Gamma^{-1} m + m^{T} \\Gamma^{-1} X - m^{T} \\Gamma^{-1} m  \\right) \\right) \\\\\n",
    "\\end{align*}\n",
    "$$"
   ]
  },
  {
   "cell_type": "markdown",
   "id": "corporate-pepper",
   "metadata": {},
   "source": [
    "Calculons : \n",
    "$$\n",
    "\\begin{align*}\n",
    "    X^{T} \\Gamma^{-1} m &= \\frac{a}{3} \\left( x + y \\right) \\\\\n",
    "    X^{T} \\Gamma^{-1} m &= (X^{T} \\Gamma^{-1} m)^{T} = \\frac{a}{3} \\left( x + y \\right) \\\\\n",
    "    m^{T} \\Gamma^{-1} m &= \\frac{a^{2}}{3}\n",
    "\\end{align*}\n",
    "$$"
   ]
  },
  {
   "cell_type": "markdown",
   "id": "leading-privacy",
   "metadata": {},
   "source": [
    "Donc : \n",
    "$$ \n",
    "\\begin{equation*}\n",
    "    g(X) = exp \\left( - \\frac{a}{6} \\left( 2x + 2y -a \\right) \\right)\n",
    "\\end{equation*}\n",
    "$$"
   ]
  },
  {
   "cell_type": "code",
   "execution_count": 14,
   "id": "sought-summer",
   "metadata": {},
   "outputs": [],
   "source": [
    " g = lambda x,y,a: np.exp( -(a/6)*(2*x +2*y - a)   ) "
   ]
  },
  {
   "cell_type": "code",
   "execution_count": 17,
   "id": "perfect-replication",
   "metadata": {},
   "outputs": [
    {
     "name": "stdout",
     "output_type": "stream",
     "text": [
      "Pour MC = 200000, on a : \n",
      "Avec a = 3 : p = 0.000309231202780361\n",
      "Avec a = 5 : p = 4.634278036904985e-08\n",
      "Avec a = 7 : p = 1.5755191674640343e-13\n"
     ]
    }
   ],
   "source": [
    "print(\"Pour MC = {}, on a : \".format(Mc))\n",
    "for val in val_a:\n",
    "    W = np.random.normal(0,1, size = (Mc,2))\n",
    "    for i in range(Mc):\n",
    "        W[i] = np.dot(A,W[i]) + val*np.ones(2)\n",
    "        \n",
    "    W1 = W[:,0]\n",
    "    W2 = W[:,1]\n",
    "    \n",
    "    a = val * np.ones(Mc)\n",
    "    p = ( (W1 >= val)*(W2 >= val)*g(W1,W2,a) ).mean()\n",
    "    print(\"Avec a = {} : p = {}\".format(val,p))"
   ]
  },
  {
   "cell_type": "markdown",
   "id": "trained-miracle",
   "metadata": {},
   "source": [
    "Q4) Ce que l'on a fais plutôt correspondait à un déplacement mais uniquement au sens d'une translation. On peut se demander ce qu'il se passe si en plus d'une translation, on ajoute une dilatation pour notre \"importance sampling\". "
   ]
  },
  {
   "cell_type": "markdown",
   "id": "reasonable-compression",
   "metadata": {},
   "source": [
    "On considère le vecteur $W$ tel que $W \\sim \\mathcal{N}( m, \\delta \\Gamma )$"
   ]
  },
  {
   "cell_type": "markdown",
   "id": "juvenile-first",
   "metadata": {},
   "source": [
    "$$\n",
    "\\begin{align*}\n",
    "    g_{\\delta}(X) &= \\frac{F_Z (X)}{F_W (X)} \\\\\n",
    "    &= \\left( \\frac{\\sqrt{2 \\pi}}{\\sqrt{2 \\pi}} \\right)^{2} \\left( \\frac{\\sqrt{det(\\Gamma)}}{\\sqrt{det(\\delta \\Gamma)}} \\right) \\frac{ exp \\left( - \\frac{1}{2} \\left( X^{T} \\Gamma^{-1} X \\right) \\right) } {exp \\left( - \\frac{1}{2} \\left( \\left( X - m \\right)^{T} (\\delta \\Gamma)^{-1} \\left( X - m \\right) \\right) \\right) } \\\\\n",
    "    &= \\frac{1}{\\delta} \\frac{ exp \\left( - \\frac{1}{2} \\left( X^{T} \\Gamma^{-1} X \\right) \\right) } {exp \\left( - \\frac{1}{2} \\left( \\left( X - m \\right)^{T} (\\delta \\Gamma)^{-1} \\left( X - m \\right) \\right) \\right) } \\\\\n",
    "    &= \\frac{1}{\\delta} exp \\left( - \\frac{1}{2} \\left( X^{T} \\Gamma^{-1} X \\right) + \\frac{1}{2} \\left( \\left( X - m \\right)^{T} (\\delta \\Gamma)^{-1} \\left( X - m \\right) \\right) \\right) \\\\\n",
    "    &= \\frac{1}{\\delta} exp \\left( - \\frac{1}{2} \\left( X^{T} \\Gamma^{-1} X  - \\left( X - m \\right)^{T} (\\delta \\Gamma)^{-1} \\left( X - m \\right) \\right) \\right) \\\\\n",
    "    &= \\frac{1}{\\delta} exp \\left( - \\frac{1}{2} \\left( X^{T} \\Gamma^{-1} X  - \\frac{1}{\\delta} \\left( X - m \\right)^{T}  \\Gamma^{-1} \\left( X - m \\right) \\right) \\right) \\\\\n",
    "    &= \\frac{1}{\\delta} exp \\left( - \\frac{1}{2} \\left( \\frac{2}{15} (2x^2 + xy + 2y^2)  - \\frac{1}{\\delta} \\left( \\frac{2}{15} (2x^2 + xy + 2y^2) -a \\frac{2}{3} (x+y) + \\frac{a^{2}}{3}  \\right)  \\right) \\right) \\\\\n",
    "\\end{align*}\n",
    "$$"
   ]
  },
  {
   "cell_type": "code",
   "execution_count": 18,
   "id": "dedicated-bacteria",
   "metadata": {},
   "outputs": [],
   "source": [
    "g_delta = lambda x,y,a,delta : 1/delta * np.exp( -(1/2) * (2/15 * (2*x*x + x*y + 2*y*y) - (1/delta * ( 2/15 * (2*x*x + x*y + 2*y*y) - a*2/3 *(x+y) + a*a/3 ))  )  )"
   ]
  },
  {
   "cell_type": "code",
   "execution_count": 19,
   "id": "broad-oracle",
   "metadata": {},
   "outputs": [
    {
     "name": "stdout",
     "output_type": "stream",
     "text": [
      "delta = 0.1\n",
      "Pour a = 3 et Mc = 200000, on a p = 3.9848082977135024e-08\n",
      "Pour a = 5 et Mc = 200000, on a p = 2.370849046500004e-22\n",
      "Pour a = 7 et Mc = 200000, on a p = 1.8775019010518257e-43\n",
      "\n",
      "\n",
      "delta = 0.5\n",
      "Pour a = 3 et Mc = 200000, on a p = 0.00027680637279295584\n",
      "Pour a = 5 et Mc = 200000, on a p = 2.8843208921634833e-09\n",
      "Pour a = 7 et Mc = 200000, on a p = 1.7440984450768442e-16\n",
      "\n",
      "\n",
      "delta = 1.0\n",
      "Pour a = 3 et Mc = 200000, on a p = 0.0003092600441078786\n",
      "Pour a = 5 et Mc = 200000, on a p = 4.588956962811125e-08\n",
      "Pour a = 7 et Mc = 200000, on a p = 1.563273818258357e-13\n",
      "\n",
      "\n",
      "delta = 1.5\n",
      "Pour a = 3 et Mc = 200000, on a p = 0.00022775569497830977\n",
      "Pour a = 5 et Mc = 200000, on a p = 8.35813660782839e-08\n",
      "Pour a = 7 et Mc = 200000, on a p = 1.0493492263079104e-12\n",
      "\n",
      "\n",
      "delta = 2.0\n",
      "Pour a = 3 et Mc = 200000, on a p = 0.0001615848114002442\n",
      "Pour a = 5 et Mc = 200000, on a p = 9.188126573612293e-08\n",
      "Pour a = 7 et Mc = 200000, on a p = 2.3545989019034842e-12\n",
      "\n",
      "\n",
      "delta = 2.5\n",
      "Pour a = 3 et Mc = 200000, on a p = 0.00011967023728790907\n",
      "Pour a = 5 et Mc = 200000, on a p = 8.972764938571185e-08\n",
      "Pour a = 7 et Mc = 200000, on a p = 3.3010100859480217e-12\n",
      "\n",
      "\n",
      "delta = 3.0\n",
      "Pour a = 3 et Mc = 200000, on a p = 9.047535362305154e-05\n",
      "Pour a = 5 et Mc = 200000, on a p = 8.3660834740187e-08\n",
      "Pour a = 7 et Mc = 200000, on a p = 4.039702985306692e-12\n",
      "\n",
      "\n"
     ]
    }
   ],
   "source": [
    "val_delta = np.array([0.1,0.5,1,1.5,2,2.5,3])\n",
    "\n",
    "for val_d in val_delta:\n",
    "    print(\"delta = {}\".format(val_d))\n",
    "    A_delta = np.sqrt(val_d)*A\n",
    "    for val in val_a:\n",
    "        W = np.random.normal(0,1, size = (Mc,2))\n",
    "        for i in range(Mc):\n",
    "            W[i] = np.dot(A_delta,W[i]) + val*np.ones(2)\n",
    "    \n",
    "        W1 = W[:,0]\n",
    "        W2 = W[:,1]\n",
    "    \n",
    "        a = val * np.ones(Mc)\n",
    "        delta = val_d * np.ones(Mc)\n",
    "        p = ( (W1 >= val)*(W2 >= val)*g_delta(W1,W2,a,delta) ).mean()\n",
    "        print(\"Pour a = {} et Mc = {}, on a p = {}\".format(val,Mc,p))\n",
    "    print(\"\\n\")"
   ]
  }
 ],
 "metadata": {
  "kernelspec": {
   "display_name": "Python 3",
   "language": "python",
   "name": "python3"
  },
  "language_info": {
   "codemirror_mode": {
    "name": "ipython",
    "version": 3
   },
   "file_extension": ".py",
   "mimetype": "text/x-python",
   "name": "python",
   "nbconvert_exporter": "python",
   "pygments_lexer": "ipython3",
   "version": "3.7.10"
  }
 },
 "nbformat": 4,
 "nbformat_minor": 5
}
