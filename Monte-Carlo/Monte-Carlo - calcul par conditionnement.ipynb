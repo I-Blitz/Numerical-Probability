{
 "cells": [
  {
   "cell_type": "markdown",
   "id": "white-watson",
   "metadata": {},
   "source": [
    "# Monte-Carlo : calcul par conditionnement"
   ]
  },
  {
   "cell_type": "markdown",
   "id": "tropical-journey",
   "metadata": {},
   "source": [
    "$X$ et $Y$ deux r.v indépendantes tel que :     \n",
    "$X \\sim \\mathcal{E}(1)$    \n",
    "$Y \\sim \\mathcal{E}(2)$       \n",
    "On pose la r.v $S$ tel que $S = X + Y$ "
   ]
  },
  {
   "cell_type": "code",
   "execution_count": 20,
   "id": "authentic-induction",
   "metadata": {},
   "outputs": [],
   "source": [
    "import numpy as np\n",
    "import matplotlib.pyplot as plt"
   ]
  },
  {
   "cell_type": "markdown",
   "id": "signed-discount",
   "metadata": {},
   "source": [
    "Q1)    \n",
    "On souhaite construire un estimateur de $\\mathbb{V}[S]$.    \n",
    "$\\mathbb{V}[S] = \\mathbb{E} \\left[ \\left( S - \\mathbb{E} \\left[ S \\right] \\right)^{2} \\right]$    \n",
    "Supposons que $\\mathbb{E} \\left[S \\right]$ soit connu et que $\\mathbb{E} \\left[S \\right] = m$, on peut obtenir l'estimateur de la variance suivant :\n",
    "$$\n",
    "\\begin{equation*}\n",
    "    \\mathbb{V}_{n}^{(1)} = \\frac{1}{n} \\sum_{i=1}^{n} \\left( S_{i} - m \\right)^{2} \n",
    "\\end{equation*}\n",
    "$$\n",
    "Dans le cas où l'espérance n'est pas connue, on peut l'approcher par la moyenne empirique : $\\bar{S}_{n}$   \n",
    "$$\n",
    "\\begin{equation*}\n",
    "    \\mathbb{V}_{n}^{(2)} = \\frac{1}{n} \\sum_{i=1}^{n} \\left( S_{i} - \\bar{S}_{n} \\right)^{2} \n",
    "\\end{equation*}\n",
    "$$\n",
    "Mais cet estimateur est biaisé car $\\mathbb{E} \\left[ \\mathbb{V}_{n}^{(2)} \\right] = \\frac{n-1}{n} \\mathbb{V}\\left[S\\right]$. On pourra donc considérer plutôt : \n",
    "$$\n",
    "\\begin{equation*}\n",
    "    \\mathbb{V}_{n}^{(3)} = \\frac{1}{n-1} \\sum_{i=1}^{n} \\left( S_{i} - \\bar{S}_{n} \\right)^{2} \n",
    "\\end{equation*}\n",
    "$$"
   ]
  },
  {
   "cell_type": "markdown",
   "id": "alternate-summit",
   "metadata": {},
   "source": [
    "Q2) On souhaite déterminer $\\mathbb{E} \\left[ 1_{S>5} | Y = y \\right]$\n",
    "$$\n",
    "\\begin{align*}\n",
    "    \\mathbb{E} \\left[ 1_{S>5} | Y = y \\right] &= \\int 1_{x+y > 5} f_{X | Y=y}(x,y) \\mathrm{d}x &\\quad \\text{théorème de transfert} \\\\\n",
    "    &= \\int 1_{ \\{x+y > 5 \\} } \\frac{f_{X,Y}(x,y)}{f_{Y}(y)} \\mathrm{d}x \\\\\n",
    "    &= \\int 1_{ \\{x+y > 5 \\} } \\frac{f_{X}(x) f_{Y}(y) }{f_{Y}(y)} \\mathrm{d}x &\\quad \\text{indépendance des v.a} \\\\\n",
    "    &= \\int 1_{ \\{x+y > 5 \\} } f_{X}(x) \\mathrm{d}x \\\\\n",
    "    &= \\int_{0}^{+ \\infty} 1_{ \\{x+y > 5 \\} } e^{-x} \\mathrm{d}x \\\\\n",
    "    &= \\int_{max(0, 5-y)}^{+ \\infty} e^{-x} \\mathrm{d}x \\\\\n",
    "    &= \\left[ -e^{-x} \\right]_{max(0, 5-y)}^{+ \\infty} \\\\\n",
    "    &= e^{-max(0, 5-y)} \\\\\n",
    "\\end{align*}\n",
    "$$      \n",
    "On a donc :    \n",
    "$$\n",
    "\\begin{equation*}\n",
    "   \\mathbb{E} \\left[ 1_{S>5} | Y  \\right] = e^{-max(0, 5-Y)}\n",
    "\\end{equation*}\n",
    "$$\n",
    "Par thoérème de l'espérance totale, on a aussi : \n",
    "$$\n",
    "\\begin{equation*}\n",
    "    p = \\mathbb{E} \\left[ \\mathbb{E} \\left[ 1_{S>5} | Y  \\right] \\right]\n",
    "\\end{equation*}\n",
    "$$\n",
    "On voit donc qu'on peut approcher p à partir de tirages uniquement de Y."
   ]
  },
  {
   "cell_type": "code",
   "execution_count": 13,
   "id": "prerequisite-anthropology",
   "metadata": {},
   "outputs": [
    {
     "name": "stdout",
     "output_type": "stream",
     "text": [
      "p = 0.01340963388743445\n"
     ]
    }
   ],
   "source": [
    "N = 10000\n",
    "Y = np.random.exponential(1/2, size = N)\n",
    "m = np.fmax( np.zeros(len(Y)) , 5-Y )\n",
    "p = (np.exp(-m)).mean()\n",
    "print(\"p = {}\".format(p))"
   ]
  },
  {
   "cell_type": "code",
   "execution_count": 28,
   "id": "narrative-conditioning",
   "metadata": {},
   "outputs": [
    {
     "data": {
      "image/png": "[encoded data removed]",
      "text/plain": [
       "<Figure size 504x360 with 1 Axes>"
      ]
     },
     "metadata": {
      "needs_background": "light"
     },
     "output_type": "display_data"
    }
   ],
   "source": [
    "N_arr = [1000,2000,5000,10000,20000,30000]\n",
    "VarZ = []\n",
    "VarS = []\n",
    "for N in N_arr : \n",
    "    X = np.random.exponential(1, size = N)\n",
    "    Y = np.random.exponential(1/2, size = N)\n",
    "    S = ((X+Y)>5)\n",
    "    Z = np.exp(-np.fmax( np.zeros(len(Y)) , 5-Y ))\n",
    "    \n",
    "    VarZ.append(Z.var())\n",
    "    VarS.append(S.var())\n",
    "    \n",
    "plt.subplots(figsize=(7,5))\n",
    "plt.scatter(N_arr,VarZ, label = \"variance par conditionnement\")\n",
    "plt.scatter(N_arr,VarS, label = \"Variance normale\")\n",
    "plt.ylabel(\"variance\")\n",
    "plt.xlabel(\"N\")\n",
    "plt.legend()\n",
    "plt.title(\"comparaison variance\")\n",
    "plt.show()"
   ]
  },
  {
   "cell_type": "markdown",
   "id": "restricted-shelf",
   "metadata": {},
   "source": [
    "Q3)      \n",
    "On souhaite déterminer la densité de S.    \n",
    "Soit g une fonction mesurable positive (ou bornée).    \n",
    "$$\n",
    "\\begin{align*}\n",
    "\\mathbb{E} \\left[ g(S) \\right] &= \\mathbb{E} \\left[ g(X+Y) \\right]     \\\\\n",
    "    &= \\int \\int g(x+y) f_{X,Y}(x,y) \\mathrm{d}x \\mathrm{d}y &\\quad \\text{théorème de transfert} \\\\\n",
    "    &= \\int_{0}^{+ \\infty} \\int_{0}^{+ \\infty} g(x+y) f_X(x) f_Y(y) \\mathrm{d}x \\mathrm{d}y  &\\quad \\text{indépendance des r.v} \\\\\n",
    "    &= \\int_{0}^{+ \\infty} \\int_{0}^{+ \\infty} g(x+y) 2 e^{-x} e^{-2y} \\mathrm{d}x \\mathrm{d}y \\\\\n",
    "    &= \\int_{0}^{+ \\infty} \\int_{0}^{+ \\infty} g(x+y) 2 e^{-(x+y)} e^{-y} \\mathrm{d}x \\mathrm{d}y \\\\\n",
    "\\end{align*}\n",
    "$$\n",
    "On va procéder à un changement de variable \n",
    "$$\n",
    "\\left\\{\n",
    "    \\begin{array}{ll}\n",
    "        u = & x+y \\\\\n",
    "        v = & y \n",
    "    \\end{array}\n",
    "    \\iff \n",
    "    \\begin{array}{ll}\n",
    "        x = & u-v \\\\\n",
    "        y = & v \n",
    "    \\end{array}\n",
    "\\right.\n",
    "$$\n",
    "Nous devons vérifier que notre changement de variable est bien un $C^1$-difféomorphisme \n",
    "$$\n",
    "J(u,v) = \\begin{pmatrix}\n",
    "\\frac{ \\partial x }{\\partial u} & \\frac{ \\partial x }{\\partial v} \\\\\n",
    "\\frac{ \\partial y }{\\partial u} & \\frac{ \\partial y }{\\partial v}\n",
    "\\end{pmatrix} \n",
    " = \\begin{pmatrix}\n",
    "1 & -1 \\\\\n",
    "0 & 1\n",
    "\\end{pmatrix} \n",
    "$$\n",
    "Le déterminant de la jacobienne est bien non nul et les changements sont affines donc on a bien un $C^{1}$-difféomorphisme.    \n",
    "En l'appliquant on trouve : \n",
    "$$\n",
    "\\begin{align*}\n",
    "    \\mathbb{E} \\left[ g(S) \\right] &= \\int_{0}^{+ \\infty} \\int_{0}^{+ \\infty} g(x+y) 2 e^{-(x+y)} e^{-y} \\mathrm{d}x \\mathrm{d}y \\\\\n",
    "    &= \\int_{0}^{+ \\infty} \\int_{0}^{u} g(u) 2 e^{-u} e^{-v} \\mathrm{d}v \\mathrm{d}u \\\\\n",
    "    &= \\int_{0}^{+ \\infty} g(u) 2 e^{-u} \\mathrm{d}u \\int_{0}^{u}  e^{-v} \\mathrm{d}v  \\\\\n",
    "    &= \\int_{0}^{+ \\infty} g(u) 2 e^{-u} \\mathrm{d}u \\Big[ e^{-v} \\Big]^{u}_{0} \\\\\n",
    "    &= \\int_{0}^{+ \\infty} g(u) 2 e^{-u} \\left( 1 - e^{-u} \\right) \\mathrm{d}u \\\\\n",
    "\\end{align*}\n",
    "$$\n",
    "Si on note $f_{S}$ la densité de S, on trouve que : \n",
    "$$\n",
    "\\begin{equation*}\n",
    "    f_{S}(u) =  2 e^{-u} \\left( 1 - e^{-u} \\right) \\mathrm{1}_{\\{u \\geq 0 \\} }\n",
    "\\end{equation*}\n",
    "$$"
   ]
  },
  {
   "cell_type": "markdown",
   "id": "engaged-receptor",
   "metadata": {},
   "source": [
    "On peut calculer p    \n",
    "$$\n",
    "\\begin{align*}\n",
    "p = \\mathbb{P} \\left( S > 5 \\right) &= 1 - \\mathbb{P} \\left( S \\leq 5 \\right) \\\\\n",
    "&= 1 - \\int_{0}^{5} f_{S}(u) \\mathrm{d}u \\\\\n",
    "&= 1 - \\int_{0}^{5}  2 e^{-u} \\left( 1 - e^{-u} \\right)\\mathrm{d}u \\\\\n",
    "&= 1 - 2 \\int_{0}^{5} e^{-u} \\left( 1 - e^{-u} \\right) \\mathrm{1}_{\\{u \\geq 0 \\} }\\mathrm{d}u \\\\\n",
    "&= 1 - 2 \\left(  \\left[ - e^{-u} \\right]^{5}_{0} + \\frac{1}{2} \\left[ e^{-2u} \\right]^{5}_{0}  \\right) \\\\\n",
    "&= 1 - 2 \\left(  \\frac{1}{2} - e^{-5} + \\frac{1}{2} e^{-10} \\right) \\\\\n",
    "&\\approx 0,0134\n",
    "\\end{align*}\n",
    "$$"
   ]
  }
 ],
 "metadata": {
  "kernelspec": {
   "display_name": "Python 3",
   "language": "python",
   "name": "python3"
  },
  "language_info": {
   "codemirror_mode": {
    "name": "ipython",
    "version": 3
   },
   "file_extension": ".py",
   "mimetype": "text/x-python",
   "name": "python",
   "nbconvert_exporter": "python",
   "pygments_lexer": "ipython3",
   "version": "3.7.10"
  }
 },
 "nbformat": 4,
 "nbformat_minor": 5
}
