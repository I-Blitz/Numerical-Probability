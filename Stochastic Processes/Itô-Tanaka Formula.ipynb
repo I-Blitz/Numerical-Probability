{
 "cells": [
  {
   "cell_type": "markdown",
   "id": "solved-fancy",
   "metadata": {},
   "source": [
    "# Ito - Tanaka"
   ]
  },
  {
   "cell_type": "markdown",
   "id": "dying-nashville",
   "metadata": {},
   "source": [
    "### 1.a)\n",
    "l'application $x \\rightarrow |x|$ est continue car $\\forall a \\in \\mathbb{R}$, $\\lim\\limits_{x \\rightarrow a} |x| = |a|$"
   ]
  },
  {
   "cell_type": "markdown",
   "id": "sublime-interstate",
   "metadata": {},
   "source": [
    "### 1.b)\n",
    "l'application $x \\rightarrow |x|$ est $C^{1}$ sur $\\mathbb{R}^{-}$ et $\\mathbb{R}^{+}$ mais pas sur $\\mathbb{R}$.     \n",
    "En effet si on regarde sur $\\mathbb{R}^{-}$ et $\\mathbb{R}^{+}$, la dérivée est $-sgn(x)$ et $sgn(x)$. Mais si on regarde les limites à droite et à gauche en $0$, on voit bien qu'on a pas continuité de la limite car $ -1 \\ne 1$. Donc impossible d'être $C^{1}$ sur $\\mathbb{R}$."
   ]
  },
  {
   "cell_type": "markdown",
   "id": "cellular-hayes",
   "metadata": {},
   "source": [
    "### 1.c)\n",
    "Soit $t \\in [0,1]$ et $x,y \\in \\mathbb{R}$    \n",
    "$$\n",
    "\\begin{align*}\n",
    "    |tx + (1-t)y| &= |tx + (1-t)y| \\\\\n",
    "    &\\leq |tx| + |(1-t)y| &\\quad \\text{par inégalité triangulaire} \\\\\n",
    "    &= t|x| + (1-t)|y|\n",
    "\\end{align*}\n",
    "$$\n",
    "Donc $|tx + (1-t)y| \\leq t|x| + (1-t)|y|$ donc la fonction est bien convexe sur $\\mathbb{R}."
   ]
  },
  {
   "cell_type": "markdown",
   "id": "sticky-exchange",
   "metadata": {},
   "source": [
    "Soit $k>0$, on pose la fonction $g_{k}(x) = -x \\mathbb{1}_{]-\\infty ; -\\frac{1}{k} ]}(x) + \\frac{1}{2} \\left( \\frac{1}{k} + k x^{2}  \\right) \\mathbb{1}_{] -\\frac{1}{k} ; \\frac{1}{k}  ]}(x) + x \\mathbb{1}_{]\\frac{1}{k}  ; + \\infty[}(x)$"
   ]
  },
  {
   "cell_type": "code",
   "execution_count": 3,
   "id": "piano-beads",
   "metadata": {},
   "outputs": [],
   "source": [
    "import matplotlib.pyplot as plt \n",
    "import numpy as np"
   ]
  },
  {
   "cell_type": "code",
   "execution_count": 3,
   "id": "crucial-surge",
   "metadata": {},
   "outputs": [],
   "source": [
    "gk =  lambda x,k: -x*(x <= -1/k) + (1/2)*((1/k) + k*(x**2)  )*( (-1/k < x) & (x <= 1/k) ) + x*(x > 1/k)"
   ]
  },
  {
   "cell_type": "code",
   "execution_count": 4,
   "id": "technological-first",
   "metadata": {},
   "outputs": [
    {
     "data": {
      "image/png": "[encoded data removed]",
      "text/plain": [
       "<Figure size 432x288 with 1 Axes>"
      ]
     },
     "metadata": {
      "needs_background": "light"
     },
     "output_type": "display_data"
    }
   ],
   "source": [
    "t = np.linspace(-5,5)\n",
    "\n",
    "for k in range(1,6):\n",
    "    val = gk(t,k)\n",
    "    plt.plot(t,val, label = \"k = {}\".format(k))\n",
    "plt.title(\"évolution de $g_{k}$ selon k\")\n",
    "plt.legend()\n",
    "plt.show()"
   ]
  },
  {
   "cell_type": "markdown",
   "id": "hollow-funeral",
   "metadata": {},
   "source": [
    "### 2.a)\n",
    "Sur $]-\\infty ; -\\frac{1}{k} [, ] -\\frac{1}{k} ; \\frac{1}{k}  [,]\\frac{1}{k}  ; + \\infty[$,  $g_{k}$ est $C^{1}$. \n",
    "On doit donc étudier la continuité de $g_{k}$ et de sa dérivée en $\\frac{-1}{k}$ et $\\frac{1}{k}$. \n",
    "$$\n",
    "\\begin{equation*}\n",
    "    g_{k}^{'}(x) = - \\mathbb{1}_{]-\\infty ; -\\frac{1}{k} ]}(x) + k x \\mathbb{1}_{] -\\frac{1}{k} ; \\frac{1}{k}  ]}(x) +  \\mathbb{1}_{]\\frac{1}{k}  ; + \\infty[}(x)\n",
    "\\end{equation*}\n",
    "$$\n",
    "\n",
    "$$\n",
    "\\begin{align*}\n",
    "    \\lim\\limits_{x \\rightarrow -\\frac{1}{k}^{-}} g_{k}(x) &= \\frac{1}{k} = \\lim\\limits_{x \\rightarrow -\\frac{1}{k}^{+}} g_{k}(x)\\\\\n",
    "    \\lim\\limits_{x \\rightarrow \\frac{1}{k}^{-}} g_{k}(x) &= \\frac{1}{k} = \\lim\\limits_{x \\rightarrow \\frac{1}{k}^{+}} g_{k}(x) \n",
    "\\end{align*}\n",
    "$$\n",
    "On a bien continuité de $g_{k}$ aux points de discontinuité, $g_{k}$ est donc dérivable sur $\\mathbb{R}$. Pour le caractère $C^{1}$, il nous faut en plus la continuité de la dérivée aux points de discontinuité.\n",
    "$$\n",
    "\\begin{align*}\n",
    "    \\lim\\limits_{x \\rightarrow -\\frac{1}{k}^{-}} g_{k}^{'}(x) &= -1 = \\lim\\limits_{x \\rightarrow -\\frac{1}{k}^{+}} g_{k}^{'}(x)\\\\\n",
    "    \\lim\\limits_{x \\rightarrow \\frac{1}{k}^{-}} g_{k}^{'}(x) &= 1 = \\lim\\limits_{x \\rightarrow \\frac{1}{k}^{+}}g_{k}^{'}(x)\n",
    "\\end{align*}\n",
    "$$\n",
    "La dérivée est bien continue sur $\\mathbb{R}$. La fonction est donc $C^{1}$ sur $\\mathbb{R}$."
   ]
  },
  {
   "cell_type": "code",
   "execution_count": 5,
   "id": "designed-value",
   "metadata": {},
   "outputs": [],
   "source": [
    "gk_prime =  lambda x,k: -1*(x <= -1/k) + k*x*( (-1/k < x) & (x <= 1/k) ) + 1*(x > 1/k)"
   ]
  },
  {
   "cell_type": "code",
   "execution_count": 6,
   "id": "antique-rouge",
   "metadata": {},
   "outputs": [
    {
     "data": {
      "image/png": "[encoded data removed]",
      "text/plain": [
       "<Figure size 432x288 with 1 Axes>"
      ]
     },
     "metadata": {
      "needs_background": "light"
     },
     "output_type": "display_data"
    }
   ],
   "source": [
    "t = np.linspace(-5,5)\n",
    "\n",
    "for k in range(1,6):\n",
    "    val = gk_prime(t,k)\n",
    "    plt.plot(t,val, label = \"k = {}\".format(k))\n",
    "plt.title(\"évolution de $g_{k}^{'}'$ selon k\")\n",
    "plt.legend()\n",
    "plt.show()"
   ]
  },
  {
   "cell_type": "markdown",
   "id": "returning-wallpaper",
   "metadata": {},
   "source": [
    "### 2.b)\n",
    "Sur $]-\\infty ; -\\frac{1}{k} [, ] -\\frac{1}{k} ; \\frac{1}{k}  [,]\\frac{1}{k}  ; + \\infty[$,  $g_{k}$ est $C^{2}$. Un problème se pose aux points de discontinuité $-\\frac{1}{k}$ et $\\frac{1}{k}$ car la dérivé n'est pas continue en ces points (donc impossible d'être $C^{2}$ sur $\\mathbb{R}$).\n",
    "$$\n",
    "\\begin{equation*}\n",
    "    g_{k}^{''}(x) = k  \\mathbb{1}_{]-\\frac{1}{k} ; \\frac{1}{k} [}(x) \n",
    "\\end{equation*}\n",
    "$$"
   ]
  },
  {
   "cell_type": "code",
   "execution_count": 8,
   "id": "frequent-compatibility",
   "metadata": {},
   "outputs": [],
   "source": [
    "gk_seconde =  lambda x,k: k*( (-1/k < x) & (x <= 1/k) ) "
   ]
  },
  {
   "cell_type": "code",
   "execution_count": 9,
   "id": "underlying-ultimate",
   "metadata": {},
   "outputs": [
    {
     "data": {
      "image/png": "[encoded data removed]",
      "text/plain": [
       "<Figure size 432x288 with 1 Axes>"
      ]
     },
     "metadata": {
      "needs_background": "light"
     },
     "output_type": "display_data"
    }
   ],
   "source": [
    "t = np.linspace(-5,5)\n",
    "\n",
    "for k in range(1,6):\n",
    "    val = gk_seconde(t,k)\n",
    "    plt.plot(t,val, label = \"k = {}\".format(k))\n",
    "plt.title(\"évolution de $g_{k}^{''}'$ selon k\")\n",
    "plt.legend()\n",
    "plt.show()"
   ]
  },
  {
   "cell_type": "markdown",
   "id": "identified-tonight",
   "metadata": {},
   "source": [
    "### 2.c)\n",
    "On remarque bien que $\\forall k \\in \\mathbb{N}^{*}$, $|g_{k}^{''}| \\leq k$ donc la dérivée seconde est bornée sur $\\mathbb{R}$.   \n",
    "On a donc une fonction $C^{1}$ sur $\\mathbb{R}$, $C^{2}$ en dehors d'un ensemble fini de points et la dérivée seconde est bornée. On peut donc appliquer le théorème plus haut. \n",
    "$$\n",
    "\\begin{equation*}\n",
    "    g_{k}(B_{t}) = g_{k}(B_{0}) + \\int_{0}^{t} g_{k}^{'}(B_{s}) \\mathrm{d}s + \\frac{1}{2} \\int_{0}^{t} g^{''}(B_{s}) \\mathrm{d}s \n",
    "\\end{equation*}\n",
    "$$"
   ]
  },
  {
   "cell_type": "markdown",
   "id": "southern-english",
   "metadata": {},
   "source": [
    "### 3.a)\n",
    "$$\n",
    "\\begin{align*}\n",
    "    || g_{k}(x) - |x| || &= || (-x-|x|) \\mathbb{1}_{]-\\infty ; -\\frac{1}{k} ]} + ( \\frac{1}{2} \\left( \\frac{1}{k} + k x^{2}  \\right) - |x| ) \\mathbb{1}_{] -\\frac{1}{k} ; \\frac{1}{k}  ]} + (x - |x|) \\mathbb{1}_{]\\frac{1}{k}  ; + \\infty[} || \\\\\n",
    "    &= || \\left( \\frac{1}{2} \\left( \\frac{1}{k} + k x^{2}  \\right) - |x| \\right) || \\\\\n",
    "    &= || \\frac{1}{2} \\left( \\frac{1}{k} + k x^{2}  - 2 |x|\\right)   \\mathbb{1}_{] -\\frac{1}{k} ; \\frac{1}{k}  ]}  || \\\\\n",
    "    &\\leq \\frac{1}{2} \\left( \\frac{1}{k} +  |x| \\left(k|x| + 2\\right ) \\mathbb{1}_{] -\\frac{1}{k} ; \\frac{1}{k}  ]}   \\right) \\\\\n",
    "    &\\leq \\frac{1}{2} \\left( \\frac{1}{k} +  \\frac{1}{k} \\left(1 + 2 \\right) \\right) \\\\\n",
    "    &= \\frac{2}{k}\n",
    "\\end{align*}\n",
    "$$\n",
    "On trouve donc que $|| g_{k}(x) - |x| || \\leq \\frac{2}{k}$"
   ]
  },
  {
   "cell_type": "markdown",
   "id": "broad-grain",
   "metadata": {},
   "source": [
    "### 3.b)\n",
    "D'après Q3.a), $ \\lim\\limits_{k \\rightarrow \\infty} || g_{k}(x) - |x| || \\leq \\lim\\limits_{k \\rightarrow \\infty} \\frac{2}{k} = 0$. On a donc la convergence uniforme de $g_{k}$ vers $|.|$ sur $\\mathbb{R}$"
   ]
  },
  {
   "cell_type": "markdown",
   "id": "indonesian-ceramic",
   "metadata": {},
   "source": [
    "### 4.a)\n",
    "Soit $t>0$, $s \\in [0,1]$, $x \\in [-\\frac{1}{k} ; \\frac{1}{k}]$\n",
    "$$\n",
    "\\begin{align*}\n",
    " x^{2} \\exp \\left( - \\frac{x^{2}}{2s} \\right) &\\leq x^{2} &\\quad \\text{car fct exp(-x) décroissante sur } R^{+} \\\\\n",
    " &\\leq \\frac{1}{k^{2}} &\\quad \\text{ car } x^{2} \\text{est maximale en } \\frac{1}{k}\n",
    "\\end{align*}\n",
    "$$"
   ]
  },
  {
   "cell_type": "markdown",
   "id": "pacific-burlington",
   "metadata": {},
   "source": [
    "### 4.b)\n",
    "$$\n",
    "\\begin{align*}\n",
    "    \\mathbb{E} \\left[ \\left( \\int_{0}^{t} k B_{s} \\mathbb{1}_{] -\\frac{1}{k} ; \\frac{1}{k}  ]}(B_{s}) \\right)^{2} \\mathrm{d}_{s} \\right] &= \\mathbb{E} \\left[  \\int_{0}^{t} \\left( k B_{s} \\mathbb{1}_{] -\\frac{1}{k} ; \\frac{1}{k}  ]}(B_{s})  \\right)^{2}\\mathrm{d}_{s}   \\right] &\\quad \\text{lemme d'isométrie d'Ito} \\\\\n",
    "    &= \\int_{0}^{t} \\mathbb{E} \\left[ \\left( k B_{s} \\mathbb{1}_{] -\\frac{1}{k} ; \\frac{1}{k}  ]}(B_{s})  \\right)^{2} \\right] \\mathrm{d}_{s} &\\quad \\text{par Fubini-Tonelli} \\\\\n",
    "    &= \\int_{0}^{t} \\int_{-\\frac{1}{k}}^{\\frac{1}{k}} k^{2} \\frac{x^{2}}{\\sqrt{2 \\pi}s} \\exp \\left( - \\frac{x^{2}}{2s} \\right) \\mathrm{d}x \\mathrm{d}s \\\\\n",
    "\\end{align*}\n",
    "$$"
   ]
  },
  {
   "cell_type": "markdown",
   "id": "freelance-transformation",
   "metadata": {},
   "source": [
    "### 4.c)\n",
    "$$\n",
    "\\begin{align*}\n",
    "    \\mathbb{E} \\left[ \\left( \\int_{0}^{t} k B_{s} \\mathbb{1}_{] -\\frac{1}{k} ; \\frac{1}{k}  ]}(B_{s}) \\mathrm{d}_{s}  \\right)^{2} \\right] &= \\int_{0}^{t} \\int_{-\\frac{1}{k}}^{\\frac{1}{k}} k^{2} \\frac{x^{2}}{\\sqrt{2 \\pi}s} \\exp \\left( - \\frac{x^{2}}{2s} \\right) \\mathrm{d}x \\mathrm{d}s \\\\\n",
    "    &\\leq k^{2} \\int_{0}^{t} \\int_{-\\frac{1}{k}}^{\\frac{1}{k}} \\frac{1}{k^{2} \\sqrt{2 \\pi s}} \\mathrm{d}x \\mathrm{d}s \\\\\n",
    "    &= \\frac{1}{\\sqrt{2 \\pi}} \\int_{0}^{t} \\int_{-\\frac{1}{k}}^{\\frac{1}{k}} \\frac{1}{ \\sqrt{s}} \\mathrm{d}x \\mathrm{d}s \\\\\n",
    "    &= \\frac{2}{k} \\frac{1}{\\sqrt{2 \\pi}} int_{0}^{t} \\frac{1}{ \\sqrt{s}} \\mathrm{d}s \\\\\n",
    "    &= \\frac{1}{k} \\sqrt{\\frac{2}{2}} \\left[ 2 \\sqrt{s} \\right]^{t}_{0} \\\\\n",
    "    &= \\frac{2}{k} \\sqrt{ \\frac{2t}{\\pi}} \n",
    "\\end{align*}\n",
    "$$\n",
    "$\\mathbb{E} \\left[ \\left( \\int_{0}^{t} k B_{s} \\mathbb{1}_{] -\\frac{1}{k} ; \\frac{1}{k}  ]}(B_{s}) \\mathrm{d}_{s}  \\right)^{2} \\right]$ est positive et est majoré par une fonction qui a pour limite $0$ lorsque $k \\rightarrow \\infty$ donc forcément on a :\n",
    "$$\n",
    "\\begin{equation*}\n",
    "\\lim\\limits_{k \\rightarrow \\infty} \\mathbb{E} \\left[ \\left( \\int_{0}^{t} k B_{s} \\mathbb{1}_{] -\\frac{1}{k} ; \\frac{1}{k}  ]}(B_{s}) \\mathrm{d}_{s}  \\right)^{2} \\right]  = 0\n",
    "\\end{equation*}\n",
    "$$"
   ]
  },
  {
   "cell_type": "markdown",
   "id": "accomplished-consciousness",
   "metadata": {},
   "source": [
    "### 4.d)\n",
    "$$\n",
    "\\begin{align*}\n",
    " \\mathbb{E} \\left[ \\left( \\int_{0}^{t} g_{k}^{'}(B_{s}) \\mathrm{d}B_{s} - \\int_{0}^{t} sgn(B_{s}) \\mathrm{d}B_{s} \\right)^{2} \\right] &= \\mathbb{E} \\left[ \\left( \\int_{0}^{t} g_{k}^{'}(B_{s}) - sgn(B_{s}) \\mathrm{d}B_{s} \\right)^{2} \\right] \\\\\n",
    " &= \\mathbb{E} \\left[ \\left( \\int_{0}^{t} \\left( \\left( -1 - sgn(B_{s} \\right) \\right) \\mathbb{1}_{ ] - \\infty ; -\\frac{1}{k} ] }(B_{s}) + \\left( k B_{s} - sgn(B_{s}) \\right) \\mathbb{1}_{ ] -\\frac{1}{k} ; \\frac{1}{k} ] }(B_{s}) + (1 - sgn(B_{s} ) \\mathbb{1}_{ ] \\frac{1}{k} ; +\\infty [ }(B_{s}) \\mathrm{d}B_{s} \\right)^{2} \\right] \\\\\n",
    " &= \\mathbb{E} \\left[ \\left( \\int_{0}^{t} \\left( k B_{s} - sgn(B_{s}) \\right) \\mathbb{1}_{ ] - \\frac{1}{k} ;  \\frac{1}{k} ] }(B_{s}) \\mathrm{d}B_{s} \\right)^{2}  \\right] \\\\\n",
    "\\end{align*}\n",
    "$$"
   ]
  },
  {
   "cell_type": "markdown",
   "id": "hundred-presentation",
   "metadata": {},
   "source": [
    "### 5)\n",
    "$$\n",
    "\\begin{align*}\n",
    "    L_{t} &= \\lim\\limits_{k \\rightarrow \\infty} \\frac{1}{2} \\int_{0}^{t} g_{k}^{''}(B_{s}) \\mathrm{d}s \\\\\n",
    "    &= \\lim\\limits_{k \\rightarrow \\infty} \\frac{1}{2} \\int_{0}^{t} k \\mathbb{1}_{] -\\frac{1}{k} ; \\frac{1}{k}  ]}(B_{s})  \\mathrm{d}s \\\\\n",
    "    &= \\lim\\limits_{k \\rightarrow \\infty} \\frac{k}{2} \\int_{0}^{t}  \\mathbb{1}_{] -\\frac{1}{k} ; \\frac{1}{k}  ]}(B_{s})  \\mathrm{d}s \\\\\n",
    "    &= \\lim\\limits_{k \\rightarrow \\infty} \\frac{k}{2} \\lambda \\left( ] -\\frac{1}{k} ; \\frac{1}{k}  ], B_{s} \\in [0,t] \\right) \\\\\n",
    "    &= \\lim\\limits_{k \\rightarrow \\infty} \\frac{k}{2} \\lambda \\left( ] -\\frac{1}{k} ; \\frac{1}{k}  ], s \\in [0,t] \\right) &\\quad \\text{car le mouvement brownien explore tout l'espace}\n",
    "\\end{align*}  \n",
    "$$ "
   ]
  },
  {
   "cell_type": "markdown",
   "id": "robust-bookmark",
   "metadata": {},
   "source": [
    "### 6)\n",
    "Appliquons le théorème à $g_{k}$\n",
    "$$\n",
    "\\begin{align*}\n",
    "    g_{k}(B_{t}) &= g_{k}(B_{0}) + \\int_{0}^{t} g_{k}^{'}(B_{s}) \\mathrm{d}B_{s} + \\frac{1}{2} \\int_{0}^{t} g_{k}^{''}(B_{s}) \\mathrm{d}s \\\\\n",
    "    \\lim\\limits_{k \\rightarrow \\infty} g_{k}(B_{t}) &=  \\lim\\limits_{k \\rightarrow \\infty} g_{k}(B_{0}) + \\lim\\limits_{k \\rightarrow \\infty} \\int_{0}^{t} g_{k}^{'}(B_{s}) \\mathrm{d}B_{s}  + \\lim\\limits_{k \\rightarrow \\infty} \\frac{1}{2} \\int_{0}^{t} g_{k}^{''}(B_{s}) \\mathrm{d}s \\\\\n",
    "    |B_{t}| &= |B_{0}| + \\int_{0}^{t} sgn(B_{s}) \\mathrm{d}B_{s} + L_{t} &\\quad \\text{ d'après 4.d) et 5) }\n",
    "\\end{align*}\n",
    "$$"
   ]
  },
  {
   "cell_type": "code",
   "execution_count": 1,
   "id": "processed-works",
   "metadata": {},
   "outputs": [],
   "source": [
    "def MatBrownien(t,N):\n",
    "    Mat = np.zeros( (N+1,N+1) )\n",
    "    for i in range(1,N+1):\n",
    "        for j in range(1,N+1):\n",
    "            Mat[i][j] = min(t[i],t[j])\n",
    "    return Mat \n",
    "\n",
    "def dMouvementBrownien(d,T,N):\n",
    "    h = T/N\n",
    "    W = np.random.normal(0,1, size = (d,N+1))\n",
    "    t = np.array([i*h for i in range(N+1)])\n",
    "    Mat = MatBrownien(t,N)\n",
    "    A = np.linalg.cholesky(Mat[1:,1:])\n",
    "    B = np.zeros((N+1,N+1))\n",
    "    B[1:,1:] = A\n",
    "    for i in range(d):\n",
    "        W[i] = np.dot(B,W[i])\n",
    "    return (t,W)"
   ]
  },
  {
   "cell_type": "code",
   "execution_count": 26,
   "id": "trained-nurse",
   "metadata": {},
   "outputs": [
    {
     "name": "stdout",
     "output_type": "stream",
     "text": [
      "Pour T = 1 et N =100, L vaut :\n",
      "0.9249888957801429\n",
      "Pour T = 2 et N =100, L vaut :\n",
      "0.47448702414026\n",
      "Pour T = 1 et N =1000, L vaut :\n",
      "0.5806926173465254\n",
      "Pour T = 2 et N =1000, L vaut :\n",
      "2.109947057500008\n"
     ]
    }
   ],
   "source": [
    "T = [1,2,1,2]\n",
    "N = [100,100,1000,1000]\n",
    "\n",
    "for j in range(len(T)):\n",
    "    print(\"Pour T = {} et N ={}, L vaut :\".format(T[j],N[j]))\n",
    "    t,W = dMouvementBrownien(2,T[j],N[j])\n",
    "    W = W[0]\n",
    "\n",
    "    L = np.abs(W[-1]) - np.abs(W[0])\n",
    "    for i in range(100-1):\n",
    "        L -= (-1*(W[i] < 0) + 1*(W[i] > 0) )*(W[i+1]-W[i])\n",
    "    print(L)"
   ]
  },
  {
   "cell_type": "code",
   "execution_count": null,
   "id": "expected-capture",
   "metadata": {},
   "outputs": [],
   "source": []
  }
 ],
 "metadata": {
  "kernelspec": {
   "display_name": "Python 3",
   "language": "python",
   "name": "python3"
  },
  "language_info": {
   "codemirror_mode": {
    "name": "ipython",
    "version": 3
   },
   "file_extension": ".py",
   "mimetype": "text/x-python",
   "name": "python",
   "nbconvert_exporter": "python",
   "pygments_lexer": "ipython3",
   "version": "3.7.10"
  }
 },
 "nbformat": 4,
 "nbformat_minor": 5
}
