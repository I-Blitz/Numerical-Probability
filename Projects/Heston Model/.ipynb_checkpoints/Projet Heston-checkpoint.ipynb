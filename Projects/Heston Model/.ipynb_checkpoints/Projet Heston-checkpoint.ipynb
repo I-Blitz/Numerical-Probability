{
 "cells": [
  {
   "cell_type": "markdown",
   "id": "legendary-wallet",
   "metadata": {},
   "source": [
    "# Projet Heston "
   ]
  },
  {
   "cell_type": "markdown",
   "id": "pregnant-jacket",
   "metadata": {},
   "source": [
    "$$\n",
    "\\begin{cases}\n",
    "    \\mathrm{d}S_t = S_t \\left( r \\mathrm{d}t + \\sqrt{\\sigma_t} \\mathrm{d}W_t^1 \\right) \\\\\n",
    "    \\mathrm{d}\\sigma_t = \\kappa \\left( \\theta - \\sigma_t \\right) \\mathrm{d}t + \\lambda \\sqrt{\\sigma_t} \\mathrm{d}W_t^2 \\\\\n",
    "\\end{cases}\n",
    "$$"
   ]
  },
  {
   "cell_type": "code",
   "execution_count": 1,
   "id": "statewide-meeting",
   "metadata": {},
   "outputs": [],
   "source": [
    "import numpy as np\n",
    "import matplotlib.pyplot as plt "
   ]
  },
  {
   "cell_type": "code",
   "execution_count": 2,
   "id": "intermediate-swiss",
   "metadata": {},
   "outputs": [],
   "source": [
    "### paramètres \"physique\"\n",
    "T = 1\n",
    "r = 0.1\n",
    "S0 = 100\n",
    "sigma0 = 0.5\n",
    "K = 105\n",
    "rho = 0.2\n",
    "\n",
    "### paramètres \"numériques\"\n",
    "N = 500*T\n",
    "Mc = 60000"
   ]
  },
  {
   "cell_type": "code",
   "execution_count": null,
   "id": "typical-iraqi",
   "metadata": {},
   "outputs": [],
   "source": [
    "## Ici on construit la matrice de variance-covariance du mouvement brownien\n",
    "def MatBrownien(T,N):\n",
    "    t = np.linspace(0,T,N+1)\n",
    "    s = np.linspace(0,T,N+1)\n",
    "    T_mesh,S_mesh = np.meshgrid(t,s)\n",
    "    Mat = np.minimum(T_mesh,S_mesh)\n",
    "    return Mat "
   ]
  }
 ],
 "metadata": {
  "kernelspec": {
   "display_name": "Python 3",
   "language": "python",
   "name": "python3"
  },
  "language_info": {
   "codemirror_mode": {
    "name": "ipython",
    "version": 3
   },
   "file_extension": ".py",
   "mimetype": "text/x-python",
   "name": "python",
   "nbconvert_exporter": "python",
   "pygments_lexer": "ipython3",
   "version": "3.7.10"
  }
 },
 "nbformat": 4,
 "nbformat_minor": 5
}
