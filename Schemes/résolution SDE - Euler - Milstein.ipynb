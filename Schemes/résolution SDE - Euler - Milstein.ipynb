{
 "cells": [
  {
   "cell_type": "markdown",
   "id": "protected-titanium",
   "metadata": {},
   "source": [
    "# résolution SDE par Euler et Milstein"
   ]
  },
  {
   "cell_type": "markdown",
   "id": "indoor-warner",
   "metadata": {},
   "source": [
    "## I - partie Maths"
   ]
  },
  {
   "cell_type": "markdown",
   "id": "coated-thomas",
   "metadata": {},
   "source": [
    "On a le système stochastique différentiel suivant :     \n",
    "$$\n",
    "\\begin{cases}\n",
    "\\mathrm{d}A_{t} &= \\mu_{t} \\mathrm{d}t + \\sigma_{t} \\mathrm{d}B_{t}  \\\\\n",
    "\\mathrm{d}Z_{t} &= \\alpha Z_{t} \\mathrm{d}t + \\beta Z_{t} \\mathrm{d}W_{t}  \\\\\n",
    "\\mathrm{d}<W,B>_{t} &= \\rho \\mathrm{d}t\n",
    "\\end{cases}\n",
    "$$"
   ]
  },
  {
   "cell_type": "markdown",
   "id": "surrounded-female",
   "metadata": {},
   "source": [
    "Notre but sera de résoudre ce système par deux méthodes différentes, le schéma d'Euler Mayurama et le schéma de Milstein. On distinguera aussi deux cas."
   ]
  },
  {
   "cell_type": "markdown",
   "id": "correct-compiler",
   "metadata": {},
   "source": [
    "### I-1 Les différents cas \n",
    "\n",
    "**Cas n°1**   \n",
    "\n",
    "\n",
    "$$\n",
    "\\begin{cases}\n",
    "\\mathrm{d}A_{t} &= \\mu A_{t} \\mathrm{d}t + \\sigma Z_{t} A_{t} \\mathrm{d}B_{t}  \\\\\n",
    "\\mathrm{d}Z_{t} &= \\alpha Z_{t} \\mathrm{d}t + \\beta Z_{t} \\mathrm{d}W_{t}  \\\\\n",
    "\\mathrm{d}<W,B>_{t} &= 0 \\\\\n",
    "A_{0} &= 10 \\\\\n",
    "Z_{0} &= 1 \\\\\n",
    "\\end{cases}\n",
    "$$\n",
    "\n",
    "**Cas n°2**  \n",
    "\n",
    "$$\n",
    "\\begin{cases}\n",
    "\\mathrm{d}A_{t} &= \\mu A_{t} \\mathrm{d}t + \\sigma \\sqrt{Z_{t}} A_{t} \\mathrm{d}B_{t}  \\\\\n",
    "\\mathrm{d}Z_{t} &= \\alpha Z_{t} \\mathrm{d}t + \\beta Z_{t} \\mathrm{d}W_{t}  \\\\\n",
    "\\mathrm{d}<W,B>_{t} &= \\rho d_{t} \\\\\n",
    "A_{T} &= 100 \\\\\n",
    "Z_{T} &= 2 \\\\\n",
    "\\end{cases}\n",
    "$$"
   ]
  },
  {
   "cell_type": "markdown",
   "id": "intensive-indian",
   "metadata": {},
   "source": [
    "On remarque que la différence se fait sur le processus $(A_{t})_{t \\geq 0}$ ainsi que sur les conditions. Dans le premier cas on est sur des conditions initiales là où pour le 2nd, on est sur des conditions (terminales ?)."
   ]
  },
  {
   "cell_type": "markdown",
   "id": "creative-simpson",
   "metadata": {},
   "source": [
    "## I-2 résolution par Euler "
   ]
  },
  {
   "cell_type": "markdown",
   "id": "placed-rabbit",
   "metadata": {},
   "source": [
    "pour le **cas n°1**, on a besoin de d'Euler mais de sa version forward (donc méthode des rectangles à gauche).   \n",
    "Déjà il faut identifier les fonctions.    \n",
    "pour le cas 1: \n",
    "$$\n",
    "\\begin{align*}\n",
    "    a_{A}(t,x ) &= \\mu x \\\\\n",
    "    b_{A}(t,x, z) &= \\sigma x z \\\\\n",
    "    a_{Z}(t,z) &= \\alpha z \\\\\n",
    "    b_{Z}(t, z ) &= \\beta z \\\\ \n",
    "\\end{align*}\n",
    "$$\n",
    "\n",
    "En l'appliquant sur notre système, on trouve les chaînes de Markov $(\\tilde A_{k})_{0 \\leq k \\leq N}$ et $(\\tilde Z_{k})_{0 \\leq k \\leq N}$ tel que :      \n",
    "\n",
    "$$\n",
    "\\begin{cases}\n",
    "\\tilde A_{k+1} &= \\tilde A_{k} + a_{A}(t_{k} , \\tilde A_{k} ) \\Delta t + b_{A}(t_{k} ,\\tilde A_{k}, \\tilde Z_{k} ) \\Delta B_{k}  \\\\\n",
    "\\tilde Z_{k+1} &= \\tilde Z_{k} + a_{Z}(t_{k} ,\\tilde Z_{k} ) \\Delta t + b_{Z}(t_{k},\\tilde Z_{k} ) \\Delta W_{k} \\\\\n",
    "\\mathrm{d}<W,B>_{k} &= 0 \\\\\n",
    "\\tilde A_{0} &= 10 \\\\\n",
    "\\tilde Z_{0} &= 1 \\\\\n",
    "\\end{cases}\n",
    "$$\n",
    "\n",
    "Ce qui peut aussi s'écrire : \n",
    "$$\n",
    "\\begin{cases}\n",
    "\\tilde A_{k+1} &= \\tilde A_{k} + \\mu A_{k} \\Delta t + \\sigma Z_{k} A_{k} \\Delta B_{k}  \\\\\n",
    "\\tilde Z_{k+1} &= \\tilde Z_{k} + \\alpha Z_{k} \\Delta t + \\beta Z_{k} \\Delta W_{k} \\\\\n",
    "\\mathrm{d}<W,B>_{k} &= 0 \\\\\n",
    "\\tilde A_{0} &= 10 \\\\\n",
    "\\tilde Z_{0} &= 1 \\\\\n",
    "\\end{cases}\n",
    "$$"
   ]
  },
  {
   "cell_type": "markdown",
   "id": "together-diabetes",
   "metadata": {},
   "source": [
    "Pour **le cas n°2**, on a besoin de la formulation backward d'Euler (donc méthode des rectangles à droite). On doit identifier nos fonctions : \n",
    "$$\n",
    "\\begin{align*}\n",
    "    a_{A}(t,x ) &= \\mu x \\\\\n",
    "    b_{A}(t,x, z) &= \\sigma x \\sqrt{z} \\\\\n",
    "    a_{Z}(t,z ) &= \\alpha z \\\\\n",
    "    b_{Z}(t, z ) &= \\beta z \\\\ \n",
    "\\end{align*}\n",
    "$$\n",
    "\n",
    "En l'appliquant sur notre système, on trouve les chaînes de Markov $(\\tilde A_{k})_{0 \\leq k \\leq N}$ et $(\\tilde Z_{k})_{0 \\leq k \\leq N}$ tel que :      \n",
    "\n",
    "$$\n",
    "\\begin{cases}\n",
    "\\tilde A_{k} &= \\tilde A_{k+1} - a_{A}(t_{k+1} , \\tilde A_{k+1} ) \\Delta t - b_{A}(t_{k+1} ,\\tilde A_{k+1}, \\tilde Z_{k+1} ) \\Delta B_{k}  \\\\\n",
    "\\tilde Z_{k} &= \\tilde Z_{k+1} - a_{Z}(t_{k+1} ,\\tilde Z_{k+1} ) \\Delta t - b_{Z}(t_{k+1},\\tilde Z_{k+1} ) \\Delta W_{k} \\\\\n",
    "\\mathrm{d}<W,B>_{k} &= 0 \\\\\n",
    "\\tilde A_{T} &= 100 \\\\\n",
    "\\tilde Z_{T} &= 2 \\\\\n",
    "\\end{cases}\n",
    "$$\n",
    "\n",
    "Ce qui s'écrit aussi :\n",
    "$$\n",
    "\\begin{cases}\n",
    "\\tilde A_{k} &= \\tilde A_{k+1} - \\mu A_{k+1} \\Delta t - \\sigma \\sqrt{Z_{k+1}} A_{k+1} \\Delta B_{k}  \\\\\n",
    "\\tilde Z_{k} &= \\tilde Z_{k+1} - \\alpha Z_{k} \\Delta t - \\beta Z_{k+1} \\Delta W_{k} \\\\\n",
    "\\mathrm{d}<W,B>_{k} &= \\rho \\Delta t \\\\\n",
    "\\tilde A_{T} &= 100 \\\\\n",
    "\\tilde Z_{T} &= 2 \\\\\n",
    "\\end{cases}\n",
    "$$"
   ]
  },
  {
   "cell_type": "markdown",
   "id": "separated-updating",
   "metadata": {},
   "source": [
    "## I - 3 Résolution par milstein "
   ]
  },
  {
   "cell_type": "markdown",
   "id": "tender-linux",
   "metadata": {},
   "source": [
    "Tout d'abord une note importante sur la méthode de Milstein, elle n'est valade que pour les EDS autonomes, donc qui ne dépendent que de la variable d'état et pas explicitement du temps. Ici c'est bien notre cas car en réalité nos fonctions $a_{A},a_{Z},b_{A},b_{Z}$ ne sont en réalités pas des fonctions du temps. Il est donc légitime d'utiliser Milstein.   \n",
    "\n",
    "Pour le **cas n°1**, En l'appliquant sur notre système,  on trouve les chaînes de Markov $(\\tilde A_{k})_{0 \\leq k \\leq N}$ et $(\\tilde Z_{k})_{0 \\leq k \\leq N}$ tel que :      \n",
    "\n",
    "$$\n",
    "\\begin{cases}\n",
    "\\tilde A_{k+1} &= \\tilde A_{k} + a_{A}( \\tilde A_{k} ) \\Delta t + b_{A}(\\tilde A_{k}, \\tilde Z_{k} ) \\Delta B_{k} + \\frac{1}{2} b_{A}(\\tilde A_{k}, \\tilde Z_{k} )  \\frac{\\partial }{\\partial x}b_{A} (\\tilde A_{k},\\tilde Z_{k}) \\Bigl[ (\\Delta B_{k})^{2} - \\Delta t \\Bigr] \\\\\n",
    "\\tilde Z_{k+1} &= \\tilde Z_{k} + a_{Z}(\\tilde Z_{k} ) \\Delta t + b_{Z}(\\tilde Z_{k} ) \\Delta W_{k} + \\frac{1}{2} b_{Z}(\\tilde Z_{k} )  \\frac{\\partial }{\\partial z}b_{Z} (\\tilde Z_{k}) \\Bigl[ (\\Delta W_{k})^{2} - \\Delta t \\Bigr] \\\\\n",
    "\\mathrm{d}<W,B>_{k} &= 0 \\\\\n",
    "\\tilde A_{0} &= 10 \\\\\n",
    "\\tilde Z_{0} &= 1 \\\\\n",
    "\\end{cases}\n",
    "$$\n",
    "\n",
    "Ce qui s'écrit aussi :\n",
    "$$\n",
    "\\begin{cases}\n",
    "\\tilde A_{k+1} &= \\tilde A_{k} + \\mu \\tilde A_{k} \\Delta t + \\sigma \\tilde Z_{k} \\tilde A_{k} \\Delta B_{k} + \\frac{1}{2} \\bigl( \\sigma \\tilde Z_{k} \\tilde A_{k}   \\bigr) \\bigl( \\sigma \\tilde Z_{k} ) \\Bigl[ (\\Delta B_{k})^{2} - \\Delta t \\Bigr] \\\\\n",
    "\\tilde Z_{k+1} &= \\tilde Z_{k} + \\tilde \\alpha Z_{k} \\Delta t + \\beta \\tilde Z_{k}  \\Delta W_{k} + \\frac{1}{2}  \\beta^{2} Z_{k} \\Bigl[ (\\Delta W_{k})^{2} - \\Delta t \\Bigr] \\\\\n",
    "\\mathrm{d}<W,B>_{k} &= 0 \\\\\n",
    "\\tilde A_{0} &= 10 \\\\\n",
    "\\tilde Z_{0} &= 1 \\\\\n",
    "\\end{cases}\n",
    "$$\n",
    "\n",
    "pour le cas n°2, comme pour Euler on a besoin de la formule Backward, qui est la suivante : \n",
    "$$\n",
    "\\begin{cases}\n",
    "\\tilde A_{k} &= \\tilde A_{k+1} - a_{A}( \\tilde A_{k+1} ) \\Delta t - b_{A}(\\tilde A_{k+1}, \\tilde Z_{k+1} ) \\Delta B_{k} - \\frac{1}{2} b_{A}(\\tilde A_{k+1}, \\tilde Z_{k+1} )  \\frac{\\partial }{\\partial x}b_{A} (\\tilde A_{k+1},\\tilde Z_{k+1}) \\Bigl[ (\\Delta B_{k})^{2} - \\Delta t \\Bigr] \\\\\n",
    "\\tilde Z_{k} &= \\tilde Z_{k+1} - a_{Z}(\\tilde Z_{k+1} ) \\Delta t - b_{Z}(\\tilde Z_{k+1} ) \\Delta W_{k} - \\frac{1}{2} b_{Z}(\\tilde Z_{k+1} )  \\frac{\\partial }{\\partial z}b_{Z} (\\tilde Z_{k+1}) \\Bigl[ (\\Delta W_{k})^{2} - \\Delta t \\Bigr] \\\\\n",
    "\\mathrm{d}<W,B>_{k} &= 0 \\\\\n",
    "\\tilde A_{T} &= 100 \\\\\n",
    "\\tilde Z_{T} &= 2 \\\\\n",
    "\\end{cases}\n",
    "$$\n",
    "\n",
    "Ce qui s'écrit aussi : \n",
    "$$\n",
    "\\begin{cases}\n",
    "\\tilde A_{k} &= \\tilde A_{k+1} - \\mu A_{k+1} \\Delta t - \\sigma \\sqrt{Z_{k+1}} A_{k+1} \\Delta B_{k} - \\frac{1}{2} \\bigl( \\sigma \\sqrt{Z_{k+1}} A_{k+1} \\bigr) \\bigl( \\sigma \\sqrt{Z_{k+1}} \\bigr) \\Bigl[ (\\Delta B_{k})^{2} - \\Delta t \\Bigr] \\\\\n",
    "\\tilde Z_{k} &= \\tilde Z_{k+1} - \\alpha Z_{k+1} \\Delta t - \\beta Z_{k+1} \\Delta W_{k} - \\frac{1}{2} \\beta^{2} Z_{k+1} \\Bigl[ (\\Delta W_{k})^{2} - \\Delta t \\Bigr] \\\\\n",
    "\\mathrm{d}<W,B>_{k} &= \\rho \\Delta t \\\\\n",
    "\\tilde A_{T} &= 100 \\\\\n",
    "\\tilde Z_{T} &= 2 \\\\\n",
    "\\end{cases}\n",
    "$$"
   ]
  },
  {
   "cell_type": "markdown",
   "id": "particular-baker",
   "metadata": {},
   "source": [
    "## II - partie info"
   ]
  },
  {
   "cell_type": "code",
   "execution_count": 15,
   "id": "frequent-undergraduate",
   "metadata": {},
   "outputs": [],
   "source": [
    "import numpy as np\n",
    "import matplotlib.pyplot as plt "
   ]
  },
  {
   "cell_type": "code",
   "execution_count": 4,
   "id": "centered-skiing",
   "metadata": {},
   "outputs": [],
   "source": [
    "## paramètres\n",
    "N = 100\n",
    "mu = 1.2\n",
    "sigma = 0.4\n",
    "alpha = 0.1\n",
    "beta = 0.9\n",
    "T = 1"
   ]
  },
  {
   "cell_type": "code",
   "execution_count": 5,
   "id": "immune-pharmacology",
   "metadata": {},
   "outputs": [],
   "source": [
    "## condtions pour le CAS 1\n",
    "A0 = 10\n",
    "Z0 = 1\n",
    "rho_1 = 0\n",
    "\n",
    "## condtions pour le CAS 2\n",
    "AT = 100\n",
    "ZT = 2\n",
    "rho_2 = 1/2"
   ]
  },
  {
   "cell_type": "markdown",
   "id": "short-postcard",
   "metadata": {},
   "source": [
    "Les codes suivants ont été pris d'un projet précédent : \"basket d'assets\". Ils sont repris sa"
   ]
  },
  {
   "cell_type": "code",
   "execution_count": 6,
   "id": "continent-prayer",
   "metadata": {},
   "outputs": [],
   "source": [
    "def MatBrownien(t,N):\n",
    "    Mat = np.zeros( (N+1,N+1) )\n",
    "    for i in range(1,N+1):\n",
    "        for j in range(1,N+1):\n",
    "            Mat[i][j] = min(t[i],t[j])\n",
    "    return Mat "
   ]
  },
  {
   "cell_type": "code",
   "execution_count": 7,
   "id": "deluxe-dragon",
   "metadata": {},
   "outputs": [],
   "source": [
    "def dMouvementBrownien(d,T,N):\n",
    "    h = T/N\n",
    "    W = np.random.normal(0,1, size = (d,N+1))\n",
    "    t = np.array([i*h for i in range(N+1)])\n",
    "    Mat = MatBrownien(t,N)\n",
    "    A = np.linalg.cholesky(Mat[1:,1:])\n",
    "    B = np.zeros((N+1,N+1))\n",
    "    B[1:,1:] = A\n",
    "    for i in range(d):\n",
    "        W[i] = np.dot(B,W[i])\n",
    "    return (t,W)"
   ]
  },
  {
   "cell_type": "code",
   "execution_count": 8,
   "id": "permanent-coordinator",
   "metadata": {},
   "outputs": [],
   "source": [
    "def CorrelatedMatrixBrownian(rho,d):\n",
    "    Mat = np.zeros( (d,d) )\n",
    "    for i in range(d):\n",
    "        for j in range(d):\n",
    "            Mat[i][j] = (rho )*(i != j) + (i == j)\n",
    "    return Mat"
   ]
  },
  {
   "cell_type": "code",
   "execution_count": 9,
   "id": "certain-person",
   "metadata": {},
   "outputs": [],
   "source": [
    "def CorrelatedBrownian(d,rho,T,N):\n",
    "    t,Z = dMouvementBrownien(d,T,N)\n",
    "    Gamma = CorrelatedMatrixBrownian(rho,d)\n",
    "    A = np.linalg.cholesky(Gamma)\n",
    "    for i in range(1,N+1):\n",
    "        Z[:,i] = np.dot(A,Z[:,i])\n",
    "    return (t,Z)"
   ]
  },
  {
   "cell_type": "code",
   "execution_count": 10,
   "id": "sixth-administration",
   "metadata": {},
   "outputs": [],
   "source": [
    "def muA1(mu,A):\n",
    "    return (mu*A)\n",
    "\n",
    "def sigmaA1(sigma,A,Z):\n",
    "    return(sigma*A*Z)\n",
    "\n",
    "def sigmaA1_prime(sigma,Z):\n",
    "    return(sigma*Z)\n",
    "\n",
    "def muZ1(alpha,Z):\n",
    "    return(alpha*Z)\n",
    "\n",
    "def sigmaZ1(beta,Z):\n",
    "    return(beta*Z)\n",
    "\n",
    "def sigmaZ1_prime(beta):\n",
    "    return (beta)"
   ]
  },
  {
   "cell_type": "code",
   "execution_count": 12,
   "id": "controlling-suicide",
   "metadata": {},
   "outputs": [],
   "source": [
    "def SDE_Euler_forward():\n",
    "    ## cas 1\n",
    "    t,mvmtB = CorrelatedBrownian(2,rho_1,T,N)\n",
    "    \n",
    "    h = T/N\n",
    "    A = np.zeros(N+1)\n",
    "    Z = np.zeros(N+1)\n",
    "    \n",
    "    B = mvmtB[0]\n",
    "    W = mvmtB[1]\n",
    "    \n",
    "    A[0] = A0\n",
    "    Z[0] = Z0\n",
    "    \n",
    "    for i in range(N):\n",
    "        A[i+1] = A[i] + muA1(mu,A[i])*h + sigmaA1(sigma,A[i],Z[i])*(B[i+1]-B[i])\n",
    "        Z[i+1] = Z[i] + muZ1(beta,Z[i])*h + sigmaZ1(beta,Z[i])*(W[i+1]-W[i])\n",
    "     \n",
    "    return t,A,Z"
   ]
  },
  {
   "cell_type": "code",
   "execution_count": 19,
   "id": "spare-council",
   "metadata": {},
   "outputs": [
    {
     "data": {
      "text/plain": [
       "<matplotlib.legend.Legend at 0x18ff7d18888>"
      ]
     },
     "execution_count": 19,
     "metadata": {},
     "output_type": "execute_result"
    },
    {
     "data": {
      "image/png": "[encoded data removed]",
      "text/plain": [
       "<Figure size 576x432 with 1 Axes>"
      ]
     },
     "metadata": {
      "needs_background": "light"
     },
     "output_type": "display_data"
    }
   ],
   "source": [
    "t,A,Z = SDE_Euler_forward()\n",
    "\n",
    "plt.subplots(figsize=(8,6))\n",
    "plt.plot(t,A, label = \"processus A\")\n",
    "plt.plot(t,Z, label = \"processus Z\")\n",
    "plt.xlabel(\"temps\")\n",
    "plt.title(\"résolution du cas 1 avec Euler-Mayurama\")\n",
    "plt.legend()"
   ]
  },
  {
   "cell_type": "code",
   "execution_count": 21,
   "id": "israeli-productivity",
   "metadata": {},
   "outputs": [],
   "source": [
    "def muA2(mu,A):\n",
    "    return (mu*A)\n",
    "\n",
    "def sigmaA2(sigma,A,Z):\n",
    "    return(sigma*A*np.sqrt(Z))\n",
    "\n",
    "def sigmaA2_prime(sigma,Z):\n",
    "    return(sigma*np.sqrt(Z))\n",
    "\n",
    "def muZ2(alpha,Z):\n",
    "    return(alpha*Z)\n",
    "\n",
    "def sigmaZ2(beta,Z):\n",
    "    return(beta*Z)\n",
    "\n",
    "def sigmaZ2_prime(beta):\n",
    "    return (beta)"
   ]
  },
  {
   "cell_type": "code",
   "execution_count": 13,
   "id": "alternative-taiwan",
   "metadata": {},
   "outputs": [],
   "source": [
    "def SDE_Euler_backward():\n",
    "    t,mvmtB = CorrelatedBrownian(2,rho_2,T,N)\n",
    "    \n",
    "    h = T/N\n",
    "    A = np.zeros(N+1)\n",
    "    Z = np.zeros(N+1)\n",
    "    \n",
    "    B = mvmtB[0]\n",
    "    W = mvmtB[1]\n",
    "    \n",
    "    A[N] = AT\n",
    "    Z[N] = ZT\n",
    "    \n",
    "    for i in range(N):\n",
    "        A[N-(i+1)] = A[N-i] - muA2(mu,A[N-i])*h - sigmaA2(sigma,A[N-i],Z[N-i])*(B[i+1]-B[i])\n",
    "        Z[N-(i+1)] = Z[N-i] - muZ2(beta,Z[N-i])*h - sigmaZ2(beta,Z[N-i])*(W[i+1]-W[i])\n",
    "        \n",
    "    return t,A,Z"
   ]
  },
  {
   "cell_type": "code",
   "execution_count": 22,
   "id": "faced-charlotte",
   "metadata": {},
   "outputs": [
    {
     "data": {
      "text/plain": [
       "<matplotlib.legend.Legend at 0x18ff7d99048>"
      ]
     },
     "execution_count": 22,
     "metadata": {},
     "output_type": "execute_result"
    },
    {
     "data": {
      "image/png": "[encoded data removed]",
      "text/plain": [
       "<Figure size 576x432 with 1 Axes>"
      ]
     },
     "metadata": {
      "needs_background": "light"
     },
     "output_type": "display_data"
    }
   ],
   "source": [
    "t,A,Z = SDE_Euler_backward()\n",
    "\n",
    "plt.subplots(figsize=(8,6))\n",
    "plt.plot(t,A, label = \"processus A\")\n",
    "plt.plot(t,Z, label = \"processus Z\")\n",
    "plt.xlabel(\"temps\")\n",
    "plt.title(\"résolution du cas 2 avec Euler-Mayurama\")\n",
    "plt.legend()"
   ]
  },
  {
   "cell_type": "code",
   "execution_count": 27,
   "id": "patent-republican",
   "metadata": {},
   "outputs": [],
   "source": [
    "def SDE_Milstein_forward():\n",
    "    t,mvmtB = CorrelatedBrownian(2,rho_1,T,N)\n",
    "    h = T/N\n",
    "    A = np.zeros(N+1)\n",
    "    Z = np.zeros(N+1)\n",
    "    \n",
    "    B = mvmtB[0]\n",
    "    W = mvmtB[1]\n",
    "    \n",
    "    A[0] = A0\n",
    "    Z[0] = Z0\n",
    "    \n",
    "    for i in range(N):\n",
    "        A[i+1] = A[i] + muA1(mu,A[i])*h + sigmaA1(sigma,A[i],Z[i])*(B[i+1]-B[i]) + 1/2 * sigmaA1(sigma,A[i],Z[i])*sigmaA1_prime(sigma,Z[i])*( (B[i+1]-B[i])**2 - h )\n",
    "        Z[i+1] = Z[i] + muZ1(alpha,Z[i])*h + sigmaZ1(beta,Z[i])*(W[i+1]-W[i]) + 1/2 * sigmaZ1(beta,Z[i])*sigmaZ1_prime(beta)*( (W[i+1]-W[i])**2 - h )\n",
    "        \n",
    "    return t,A,Z"
   ]
  },
  {
   "cell_type": "code",
   "execution_count": 29,
   "id": "sorted-sussex",
   "metadata": {},
   "outputs": [
    {
     "data": {
      "text/plain": [
       "<matplotlib.legend.Legend at 0x18ff7e96e48>"
      ]
     },
     "execution_count": 29,
     "metadata": {},
     "output_type": "execute_result"
    },
    {
     "data": {
      "image/png": "[encoded data removed]",
      "text/plain": [
       "<Figure size 576x432 with 1 Axes>"
      ]
     },
     "metadata": {
      "needs_background": "light"
     },
     "output_type": "display_data"
    }
   ],
   "source": [
    "t,A,Z = SDE_Milstein_forward()\n",
    "\n",
    "plt.subplots(figsize=(8,6))\n",
    "plt.plot(t,A, label = \"processus A\")\n",
    "plt.plot(t,Z, label = \"processus Z\")\n",
    "plt.xlabel(\"temps\")\n",
    "plt.title(\"résolution du cas 1 avec Milstein\")\n",
    "plt.legend()"
   ]
  },
  {
   "cell_type": "code",
   "execution_count": 32,
   "id": "later-label",
   "metadata": {},
   "outputs": [],
   "source": [
    "def SDE_Milstein_backward():\n",
    "    t,mvmtB = CorrelatedBrownian(2,rho_2,T,N)\n",
    "    h = T/N\n",
    "    A = np.zeros(N+1)\n",
    "    Z = np.zeros(N+1)\n",
    "    \n",
    "    B = mvmtB[0]\n",
    "    W = mvmtB[1]\n",
    "    \n",
    "    A[N] = AT\n",
    "    Z[N] = ZT\n",
    "    \n",
    "    for i in range(N):\n",
    "        A[N-(i+1)] = A[N-i] - muA2(mu,A[N-i])*h - sigmaA2(sigma,A[N-i],Z[N-i])*(B[i+1]-B[i]) - 1/2 * sigmaA2(sigma,A[N-i],Z[N-i])*sigmaA2_prime(sigma,Z[N-i])*( (B[i+1]-B[i])**2 - h )\n",
    "        Z[N-(i+1)] = Z[N-i] - muZ2(alpha,Z[N-i])*h - sigmaZ2(beta,Z[N-i])*(W[i+1]-W[i]) - 1/2 * sigmaZ2(beta,Z[N-i])*sigmaZ2_prime(beta)*( (W[i+1]-W[i])**2 - h )\n",
    "        \n",
    "    return t,A,Z"
   ]
  },
  {
   "cell_type": "code",
   "execution_count": 35,
   "id": "pacific-mouth",
   "metadata": {},
   "outputs": [
    {
     "data": {
      "text/plain": [
       "<matplotlib.legend.Legend at 0x18ff7dd8988>"
      ]
     },
     "execution_count": 35,
     "metadata": {},
     "output_type": "execute_result"
    },
    {
     "data": {
      "image/png": "[encoded data removed]",
      "text/plain": [
       "<Figure size 576x432 with 1 Axes>"
      ]
     },
     "metadata": {
      "needs_background": "light"
     },
     "output_type": "display_data"
    }
   ],
   "source": [
    "t,A,Z = SDE_Milstein_backward()\n",
    "\n",
    "plt.subplots(figsize=(8,6))\n",
    "plt.plot(t,A, label = \"processus A\")\n",
    "plt.plot(t,Z, label = \"processus Z\")\n",
    "plt.xlabel(\"temps\")\n",
    "plt.title(\"résolution du cas 2 avec Milstein\")\n",
    "plt.legend()"
   ]
  },
  {
   "cell_type": "code",
   "execution_count": null,
   "id": "bigger-wright",
   "metadata": {},
   "outputs": [],
   "source": []
  }
 ],
 "metadata": {
  "kernelspec": {
   "display_name": "Python 3",
   "language": "python",
   "name": "python3"
  },
  "language_info": {
   "codemirror_mode": {
    "name": "ipython",
    "version": 3
   },
   "file_extension": ".py",
   "mimetype": "text/x-python",
   "name": "python",
   "nbconvert_exporter": "python",
   "pygments_lexer": "ipython3",
   "version": "3.7.10"
  }
 },
 "nbformat": 4,
 "nbformat_minor": 5
}
